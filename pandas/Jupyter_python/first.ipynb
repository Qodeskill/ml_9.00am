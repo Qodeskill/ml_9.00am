{
 "cells": [
  {
   "cell_type": "code",
   "execution_count": 1,
   "id": "db239be2",
   "metadata": {},
   "outputs": [],
   "source": [
    "import pandas as pd\n",
    "import numpy as np"
   ]
  },
  {
   "cell_type": "code",
   "execution_count": null,
   "id": "4a3e5d20",
   "metadata": {},
   "outputs": [],
   "source": [
    "print(np.arange(3))"
   ]
  }
 ],
 "metadata": {
  "kernelspec": {
   "display_name": "Python 3 (ipykernel)",
   "language": "python",
   "name": "python3"
  },
  "language_info": {
   "codemirror_mode": {
    "name": "ipython",
    "version": 3
   },
   "file_extension": ".py",
   "mimetype": "text/x-python",
   "name": "python",
   "nbconvert_exporter": "python",
   "pygments_lexer": "ipython3",
   "version": "3.10.1-final"
  }
 },
 "nbformat": 4,
 "nbformat_minor": 5
}